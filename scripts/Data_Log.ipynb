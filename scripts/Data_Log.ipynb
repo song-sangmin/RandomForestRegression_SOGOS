{
 "cells": [
  {
   "cell_type": "markdown",
   "metadata": {},
   "source": [
    "# Data Log\n",
    "\n",
    "- Keep track of where you made and calculated variables\n"
   ]
  },
  {
   "cell_type": "code",
   "execution_count": 1,
   "metadata": {},
   "outputs": [],
   "source": [
    "# Import Packages\n",
    "\n",
    "#Data Structure/Organization Packages\n",
    "import pandas as pd\n",
    "import xarray as xr\n",
    "import numpy as np\n",
    "import numpy.ma as ma\n",
    "\n",
    "# Plotting Packages\n",
    "import matplotlib.pyplot as plt\n",
    "from cmocean import cm as cmo\n",
    "import seaborn as sns\n",
    "import matplotlib.patches as patch\n",
    "from labellines import labelLine, labelLines\n",
    "from matplotlib.ticker import FormatStrFormatter\n",
    "import matplotlib.patheffects as pe \n",
    "\n",
    "# Utility Packages\n",
    "import random as rand\n",
    "import os\n",
    "import math\n",
    "# import dataframe_image as dfi\n",
    "import itertools\n",
    "from scipy import interpolate\n",
    "from tqdm import tqdm\n",
    "\n",
    "# Oceanography Packages\n",
    "import gsw\n",
    "import importlib\n",
    "import geopy.distance\n",
    "\n",
    "# Import Packages\n",
    "\n",
    "#Data Structure/Organization Packages\n",
    "import pandas as pd\n",
    "import xarray as xr\n",
    "import numpy as np\n",
    "import numpy.ma as ma\n"
   ]
  },
  {
   "cell_type": "code",
   "execution_count": null,
   "metadata": {},
   "outputs": [],
   "source": [
    "# Modules\n",
    "import mod_main as sg\n",
    "import mod_L3proc as gproc     # for L3 grid processing\n",
    "import mod_DFproc as dfproc    # for dataframe processing\n",
    "import mod_plot as sgplot  \n",
    "import mod_RFR as rfr\n",
    "import mod_MLV as mlv\n",
    "\n",
    "from mod_plot import my_params\n",
    "from importlib import reload\n",
    "\n",
    "plt.rcParams.update(my_params(16))\n",
    "\n",
    "# Get data\n",
    "from mod_main import df_659, df_660, dav_659, dav_660\n",
    "from mod_main import sgfloat, dav_6030, dav_float\n",
    "# from mod_RFR import RF_validation, RF_test, RF_modelmetrics, RF_featimps\n",
    "# from mod_RFR import RF_kfold, RF_loo\n",
    "\n",
    "from mod_MLV import mlstat_659, mlstat_660, mlstat_float\n",
    "from mod_MLV import hvariance_659, hvariance_660\n",
    "from mod_main import floatDF\n",
    "wmoids = floatDF.wmoid.unique()\n"
   ]
  },
  {
   "cell_type": "code",
   "execution_count": null,
   "metadata": {},
   "outputs": [],
   "source": [
    "# ## making some dav's\n",
    "# for ind, profnum in enumerate(mlstat_660.profid.values):\n",
    "#     if profnum in baseML_stat660.profid.values:\n",
    "#         mlstat_660.at[ind, 'log_buoyancy'] = baseML_stat660[baseML_stat660.profid==profnum].log_buoyancy.values[0]\n",
    "#         # mlstat_660.at[ind, 'grad_nitrate'] = baseML_stat660[baseML_stat660.profid==profnum].grad_nitrate.values[0]\n",
    "#     if profnum in bx100_660.profid.values:\n",
    "#         mlstat_660.at[ind, 'Bx'] = bx100_660[bx100_660.profid==profnum].Bx.values[0]\n",
    "\n",
    "# for ind, profnum in enumerate(mlstat_659.profid.values):\n",
    "#     if profnum in baseML_stat659.profid.values:\n",
    "#         mlstat_659.at[ind, 'log_buoyancy'] = baseML_stat659[baseML_stat659.profid==profnum].log_buoyancy.values[0]\n",
    "#         # mlstat_659.at[ind, 'grad_nitrate'] = baseML_stat659[baseML_stat659.profid==profnum].grad_nitrate.values[0]\n",
    "#     if profnum in bx100_659.profid.values:\n",
    "#         mlstat_659.at[ind, 'Bx'] = bx100_659[bx100_659.profid==profnum].Bx.values[0]\n",
    "        \n",
    "# dir = '../working-vars/ML-variability/'\n",
    "# mlstat_659.to_csv(dir + 'mixedlayerstat_659_may24.csv')\n",
    "# mlstat_660.to_csv(dir + 'mixedlayerstat_660_may24.csv')\n",
    "\n",
    "# mldf_659.to_csv(dir + 'mldf_659_may24.csv')\n",
    "# mldf_660.to_csv(dir + 'mldf_660_may24.csv')\n",
    "# dav_6030 =pd.read_csv('../data/bgc-argo/dav_full6030_noqc.csv')   \n",
    "\n",
    "# modis = xr.open_dataset('../data/satellite/Aqua.L3m_8D_2019_par_4km.nc')\n",
    "# modis['days'] = sg.datetime2ytd(modis.time)\n",
    "\n",
    "# def get_closest_par(row):\n",
    "#     lat = row.lat\n",
    "#     lon = row.lon\n",
    "#     time = sg.ytd2datetime(row.yearday)\n",
    "\n",
    "#     row['par'] = modis.sel(time=time, lat=lat, lon=lon, method='nearest').par.values\n",
    "#     return row\n",
    "\n",
    "# # Trim MODIS to speed up method\n",
    "# lat1 = -57\n",
    "# lat2 = -48\n",
    "# lon1 = 10\n",
    "# lon2 = 70\n",
    "\n",
    "# modis = modis.sel(lat=slice(lat1, lat2))\n",
    "# modis = modis.sel(lon=slice(lon1, lon2))\n",
    "# modis = modis.sel(time=slice('2019-04-15', '2019-08-05'))\n",
    "\n",
    "# dav_6030['par'] = np.tile(np.nan, dav_6030.shape[0])\n",
    "# dav_6030 = dav_6030.apply(get_closest_par, axis='columns')\n",
    "# dav_6030.profid = dav_6030.profid.astype(int)\n",
    "\n",
    "# dav_6030\n",
    "\n",
    "# pd.read_csv('../data/bgc-argo/dav_sgfloat_EKE.csv')  \n",
    "# dav_float[['profid', 'yearday', 'lat', 'lon', 'mld', 'eke', 'par']].to_csv('../data/bgc-argo/dav_sgfloat_EKEPAR.csv')\n",
    "# pd.read_csv('../data/glider/dav_659_EKE.csv')  \n",
    "\n",
    "# dav_659 = pd.read_csv('../data/glider/dav_659_EKE.csv')  \n",
    "# dav_660 = pd.read_csv('../data/glider/dav_660_EKE.csv')\n",
    "# # Add PAR\n",
    "# def get_closest_par(row):\n",
    "#     lat = row.lat\n",
    "#     lon = row.lon\n",
    "#     time = sg.ytd2datetime(row.yearday)\n",
    "\n",
    "#     row['par'] = modis.sel(time=time, lat=lat, lon=lon, method='nearest').par.values\n",
    "#     return row\n",
    "\n",
    "# dav_660['par'] = np.tile(np.nan, dav_660.shape[0])\n",
    "# dav_659['par'] = np.tile(np.nan, dav_659.shape[0])\n",
    "\n",
    "\n",
    "# dav_659 = dav_659.apply(get_closest_par, axis='columns')\n",
    "# dav_660 = dav_660.apply(get_closest_par, axis='columns')\n",
    "\n",
    "# dav_660.profid = dav_660.profid.astype(int)  # apply function will cast into float\n",
    "# dav_659.profid = dav_659.profid.astype(int)\n",
    "# dav_659.to_csv('../data/glider/dav_659_EKEPAR.csv')  \n",
    "# dav_660.to_csv('../data/glider/dav_660_EKEPAR.csv')\n",
    "# dav_float\n",
    "# from mod_plot import *\n",
    "# fig = plt.figure(figsize=(10,6))\n",
    "# ax = fig.gca()\n",
    "# ax.scatter(mlstat_659.yearday, mlstat_659.mld, s=10, alpha=0.8, label='SG659', color=plat_colors['sg659'], zorder=3)\n",
    "# ax.scatter(mlstat_660.yearday, mlstat_660.mld, s=10, alpha=0.8, label='SG660',color=plat_colors['sg660'], zorder=3)\n",
    "# ax.scatter(dav_6030.yearday, dav_6030.mld, label='Float',  marker='D', edgecolors='k', linewidth=2.1,\n",
    "#                 s=10, alpha=0.8, color='#CCBB44', zorder=3)\n",
    "\n",
    "# ax.legend(markerscale=3, ncol=3)\n",
    "# # reload(sg)\n",
    "# reload(sgplot)\n",
    "# fsize = (7,11)\n",
    "# # fsize = 13,26\n",
    "# sgplot.plt_time_series(fsize = fsize, dotsize=8, diasize=50, titlesize=16, dateformat=True,\n",
    "#                        legend=False)\n",
    "# from mod_plot import plat_colors\n",
    "# reload(sgplot)\n",
    "# from mod_plot import *"
   ]
  },
  {
   "cell_type": "code",
   "execution_count": null,
   "metadata": {},
   "outputs": [],
   "source": [
    "# reload(dfproc)\n",
    "# bx100_660 = dfproc.get_depth_bx(df_660, d0=100, thresh=5)\n",
    "# bx100_659 = dfproc.get_depth_bx(df_659, d0=100, thresh=5)\n",
    "# mldf_659 = dfproc.make_mldf(df_659, dav_659)\n",
    "# mldf_660 = dfproc.make_mldf(df_660, dav_660)\n",
    "# mldf_float = dfproc.make_mldf(sgfloat, dav_float)\n",
    "# baseML_stat659 = mlv.get_baseML_stat(mldf_659, dav_659)\n",
    "# baseML_stat660 = mlv.get_baseML_stat(mldf_660, dav_660)\n",
    "# baseML_float = mlv.get_baseML_stat(mldf_float, dav_float)"
   ]
  },
  {
   "cell_type": "markdown",
   "metadata": {},
   "source": [
    "# EKE"
   ]
  },
  {
   "cell_type": "code",
   "execution_count": null,
   "metadata": {},
   "outputs": [],
   "source": [
    "# Use correct delayed-time product\n",
    "altimetry = xr.open_dataset('../data/satellite/cmems_obs-sl_glo_phy-ssh_my_allsat-l4-duacs-0.25deg_P1D_1714604183615.nc')\n",
    "altimetry['eke'] = np.sqrt(altimetry.ugosa**2 + altimetry.vgosa**2)\n",
    "datestart='2019-04-30'\n",
    "dateend='2019-07-25'\n",
    "dateend='2021-07-25'\n",
    "lat1=-56.8; lat2=-43\n",
    "lon1=19; lon2=41\n",
    "data_sat = altimetry.sel(time=slice(datestart, dateend))\n",
    "data_sat = data_sat.sel(latitude=slice(lat1, lat2))\n",
    "data_sat = data_sat.sel(longitude=slice(lon1, lon2))\n",
    "avg_altimetry = data_sat.mean(dim='time')\n",
    "\n",
    "dav_659['eke'] = dfproc.get_track_eke(dav_659, data_sat, daily=True)\n",
    "dav_660['eke']= dfproc.get_track_eke(dav_660, data_sat, daily=True)\n",
    "dav_float['eke'] = dfproc.get_track_eke(dav_float, data_sat, daily=True)\n",
    "dav_659['eke_avg'] = dfproc.get_track_eke(dav_659, data_sat, daily=False)\n",
    "dav_660['eke_avg']= dfproc.get_track_eke(dav_660, data_sat, daily=False)\n",
    "dav_float['eke_avg'] = dfproc.get_track_eke(dav_float, data_sat, daily=False)"
   ]
  },
  {
   "cell_type": "markdown",
   "metadata": {},
   "source": [
    "# PAR"
   ]
  },
  {
   "cell_type": "code",
   "execution_count": 1,
   "metadata": {},
   "outputs": [],
   "source": []
  },
  {
   "cell_type": "code",
   "execution_count": 3,
   "metadata": {},
   "outputs": [],
   "source": [
    "# import pyproj\n",
    "# # need to find MODIS tile number to download\n",
    "\n",
    "# CELLS = 2400\n",
    "# VERTICAL_TILES = 18\n",
    "# HORIZONTAL_TILES = 36\n",
    "# EARTH_RADIUS = 6371007.181\n",
    "# EARTH_WIDTH = 2 * math.pi * EARTH_RADIUS\n",
    "\n",
    "# TILE_WIDTH = EARTH_WIDTH / HORIZONTAL_TILES\n",
    "# TILE_HEIGHT = TILE_WIDTH\n",
    "# CELL_SIZE = TILE_WIDTH / CELLS\n",
    "\n",
    "# MODIS_GRID = pyproj.Proj(f'+proj=sinu +R={EARTH_RADIUS} +nadgrids=@null +wktext')\n",
    "\n",
    "# def lat_lon_to_modis(lat, lon):\n",
    "#     x, y = MODIS_GRID(lon, lat)\n",
    "#     h = (EARTH_WIDTH * .5 + x) / TILE_WIDTH\n",
    "#     v = -(EARTH_WIDTH * .25 + y - (VERTICAL_TILES - 0) * TILE_HEIGHT) / TILE_HEIGHT\n",
    "#     return int(h), int(v)\n",
    "\n",
    "# lat1=-54.7; lat2=-49.2\n",
    "# lon1=29.5; lon2=39.4\n",
    "\n",
    "# [htile1, vtile1] = lat_lon_to_modis(lat1, lon1)\n",
    "# [htile2, vtile2] = lat_lon_to_modis(lat2, lon2)\n",
    "\n"
   ]
  },
  {
   "cell_type": "code",
   "execution_count": null,
   "metadata": {},
   "outputs": [],
   "source": []
  },
  {
   "cell_type": "markdown",
   "metadata": {},
   "source": [
    "# FLOAT MLD"
   ]
  },
  {
   "cell_type": "code",
   "execution_count": null,
   "metadata": {},
   "outputs": [
    {
     "data": {
      "text/plain": [
       "(19, 14)"
      ]
     },
     "execution_count": 4,
     "metadata": {},
     "output_type": "execute_result"
    }
   ],
   "source": [
    "lat1=-54.7; lat2=-49.2\n",
    "lon1=29.5; lon2=39.4\n",
    "\n",
    "[htile1, vtile1] = lat_lon_to_modis(lat1, lon1)\n",
    "[htile2, vtile2] = lat_lon_to_modis(lat2, lon2)\n",
    "\n"
   ]
  },
  {
   "cell_type": "code",
   "execution_count": null,
   "metadata": {},
   "outputs": [],
   "source": [
    "print (htile2)\n",
    "print ()"
   ]
  },
  {
   "cell_type": "code",
   "execution_count": null,
   "metadata": {},
   "outputs": [],
   "source": [
    "# Version of feb 2024\n",
    "# Use non QC float data to calculate MLD before using nitrate data from filtered floatDF\n",
    "noQC_float = pd.read_csv('../working-vars/go-bgc/complete_sgfloat_noQC.csv', index_col=0)\n",
    "mld_float, blank = dfproc.make_diveav(noQC_float, thresh=0.025, mld_lim=[5,15])\n",
    "mld_float\n",
    "# mld_float.to_csv('../working-vars/go-bgc/complete_dav_sgfloat.csv')"
   ]
  },
  {
   "cell_type": "code",
   "execution_count": null,
   "metadata": {},
   "outputs": [],
   "source": [
    "dav_6030 = pd.read_csv('../data/bgc-argo/dav_full6030_noqc.csv') \n",
    "# Add PAR\n",
    "dav_6030['par'] = np.tile(np.nan, dav_6030.shape[0])\n",
    "dav_6030 = dav_6030.apply(get_closest_par, axis='columns')\n",
    "dav_6030.profid = dav_6030.profid.astype(int)\n"
   ]
  },
  {
   "cell_type": "code",
   "execution_count": null,
   "metadata": {},
   "outputs": [],
   "source": []
  },
  {
   "cell_type": "markdown",
   "metadata": {},
   "source": [
    "# GLIDER MLD"
   ]
  },
  {
   "cell_type": "code",
   "execution_count": null,
   "metadata": {},
   "outputs": [],
   "source": [
    "# 3 GLIDER MLD\n",
    "sg659 = pd.read_csv('../data/glider/df_659_tsO2corr_nonandrop_0131.csv')\n",
    "sg660 = pd.read_csv('../data/glider/df_660_tsO2corr_nonandrop_0131.csv')\n",
    "\n",
    "dav_659, nanmld_659 = dfproc.make_diveav(sg659[sg659.yearday>0], thresh=0.005, mld_lim=[8,12]); print() \n",
    "dav_660, nanmld_660 = dfproc.make_diveav(sg660[sg660.yearday>0], thresh=0.005, mld_lim=[8,12])\n",
    "\n"
   ]
  },
  {
   "cell_type": "code",
   "execution_count": null,
   "metadata": {},
   "outputs": [],
   "source": []
  },
  {
   "cell_type": "code",
   "execution_count": null,
   "metadata": {},
   "outputs": [],
   "source": [
    "# Satellite data:\n",
    "aviso = xr.open_dataset('../data/satellite/dataset-duacs-nrt-global-merged-allsat-phy-l4_1637011653931.nc')\n",
    "aviso['eke'] = np.sqrt(aviso.ugosa**2 + aviso.vgosa**2)\n",
    "\n",
    "# EKE data\n",
    "datestart='2019-04-30'\n",
    "dateend='2019-07-25'\n",
    "dateend='2021-07-25'\n",
    "lat1=-56.8; lat2=-43\n",
    "lon1=19; lon2=41\n",
    "data_sat = aviso.sel(time=slice(datestart, dateend))\n",
    "data_sat = data_sat.sel(latitude=slice(lat1, lat2))\n",
    "data_sat = data_sat.sel(longitude=slice(lon1, lon2))\n",
    "\n",
    "dav_659['eke'] = dfproc.get_track_eke(dav_659, data_sat, daily=True)\n",
    "dav_660['eke']= dfproc.get_track_eke(dav_660, data_sat, daily=True)\n",
    "dav_float['eke'] = dfproc.get_track_eke(dav_660, data_sat, daily=True)\n",
    "# dav_659['eke_avg'] = dfproc.get_track_eke(dav_659, data_sat, daily=False)\n",
    "# dav_660['eke_avg']= dfproc.get_track_eke(dav_660, data_sat, daily=False)\n",
    "# dav_float['eke_avg'] = dfproc.get_track_eke(dav_float, data_sat, daily=False)\n",
    "\n"
   ]
  },
  {
   "cell_type": "code",
   "execution_count": null,
   "metadata": {},
   "outputs": [],
   "source": [
    "# daily\n",
    "# ==\n",
    "fig = plt.figure(figsize=(8,4), layout='constrained')\n",
    "ax = plt.gca()\n",
    "ax.plot(dav_659.yearday, dav_659.eke, color=plat_colors['sg659'], label='sg659')\n",
    "ax.plot(dav_660.yearday, dav_660.eke, color=plat_colors['sg660'], label='sg660')"
   ]
  },
  {
   "cell_type": "code",
   "execution_count": null,
   "metadata": {},
   "outputs": [],
   "source": [
    "rerun = True\n",
    "desc='full'\n",
    "if rerun:\n",
    "    model_list = ['Model_A', 'Model_B', 'Model_C', 'Model_D', 'Model_E', 'Model_F', 'Model_G']\n",
    "\n",
    "    # Initialize object again\n",
    "    cv_kfold = crf.CrossVal_KFold(model_list)\n",
    "\n",
    "    for mdl in model_list: \n",
    "        df = pd.read_csv('../working-vars/RF-crossval/kfold_valDF_' + mdl + '_' + desc + '.csv')\n",
    "        crossfold_MAEs = pd.read_csv('../working-vars/RF-crossval/kfold_list_MAEs_' + desc + '.csv')\n",
    "\n",
    "        # Here's where we use the imported data \n",
    "        cv_kfold.val_DF[mdl] = df.copy()\n",
    "\n",
    "        # Later, we will use the cv_kfold.val_error['Mdl_G'] to plot the histogram of full errors\n",
    "        cv_kfold.val_error[mdl] = cv_kfold.val_DF[mdl]['val_error'] #allfold_val_df['val_error'] \n",
    "        cv_kfold.val_relative_error[mdl] = cv_kfold.val_DF[mdl]['val_relative_error']\n",
    "\n",
    "        # We use the next imported data, MAE lists across models, \n",
    "        cv_kfold.MAEs[mdl] = crossfold_MAEs[mdl] # this is a list of 10 MAEs\n",
    "                                                # mean of this is the final validation error for Model_X\n",
    "        cv_kfold.IQRs[mdl] = crossfold_MAEs[mdl]\n"
   ]
  }
 ],
 "metadata": {
  "kernelspec": {
   "display_name": "Python (mlsogos)",
   "language": "python",
   "name": "sogos_23"
  },
  "language_info": {
   "codemirror_mode": {
    "name": "ipython",
    "version": 3
   },
   "file_extension": ".py",
   "mimetype": "text/x-python",
   "name": "python",
   "nbconvert_exporter": "python",
   "pygments_lexer": "ipython3",
   "version": "3.8.15"
  }
 },
 "nbformat": 4,
 "nbformat_minor": 2
}
